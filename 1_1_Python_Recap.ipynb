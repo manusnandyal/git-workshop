{
  "cells": [
    {
      "cell_type": "markdown",
      "metadata": {
        "id": "view-in-github",
        "colab_type": "text"
      },
      "source": [
        "<a href=\"https://colab.research.google.com/github/manusnandyal/git-workshop/blob/master/1_1_Python_Recap.ipynb\" target=\"_parent\"><img src=\"https://colab.research.google.com/assets/colab-badge.svg\" alt=\"Open In Colab\"/></a>"
      ]
    },
    {
      "cell_type": "markdown",
      "metadata": {
        "id": "QR0Pc330kDDj"
      },
      "source": [
        "# Python"
      ]
    },
    {
      "cell_type": "markdown",
      "metadata": {
        "id": "3aIX9rVtkDDj"
      },
      "source": [
        "This notebook contains relevant information about Python that will be helpful during the whole class.\n",
        "\n",
        "## Jupyter is a Python shell divided in cells\n",
        "\n",
        "\n",
        "This cell is a *Markdown* cell (for texts like notes, manuals, etc.)\n",
        "You can edit this cell with a double click. `Ctrl + Enter` executes the cell, i.e. annotations for headlines, bullet lists and the like will be evaluated and the formatted result will be shown.\n",
        "\n",
        "The cell following the **\"Hello World!\"** headline is a *Code* cell\n",
        "It consists of an input `In [ ]` and an output.\n",
        "The execution of the entered code is started with `Ctrl + Enter`, just like the Markdown cell type.\n",
        "\n",
        "If the square brackets of the input cell are empty, the cell has not been executed yet.\n",
        "A star (`In [*]`) shows that the code of the cell is currently running.\n",
        "After the computation finished, the star is replaced with a number (e.g. `In [5]`) and the output (if any is produced) appears directly below the cell.\n",
        "\n",
        "The cells can be executed multiple times and in any order. The actual program flow is thus not defined by the cell order but by the numbers in the square brackets."
      ]
    },
    {
      "cell_type": "markdown",
      "source": [
        "# Basics"
      ],
      "metadata": {
        "id": "YSZf1UyN1I6R"
      }
    },
    {
      "cell_type": "markdown",
      "metadata": {
        "id": "-rikYAsckDDk"
      },
      "source": [
        "As usual, first thing we need is a hello world!\n",
        "\n",
        "### Hello world!"
      ]
    },
    {
      "cell_type": "code",
      "execution_count": null,
      "metadata": {
        "id": "S801nsPwkDDk",
        "colab": {
          "base_uri": "https://localhost:8080/"
        },
        "outputId": "b9da5c9e-8834-427d-bd28-9409a84cfb03"
      },
      "outputs": [
        {
          "output_type": "stream",
          "name": "stdout",
          "text": [
            "hello world!\n"
          ]
        }
      ],
      "source": [
        "print(\"hello world!\")"
      ]
    },
    {
      "cell_type": "markdown",
      "metadata": {
        "id": "vYbO5QIkkDDk"
      },
      "source": [
        "What can we see from this first Python code line?\n",
        "\n",
        "- `print` is a key word in Python\n",
        "- strings can be defined just by using quotes\n",
        "- we don't need to create any main or any class to run code in Python"
      ]
    },
    {
      "cell_type": "markdown",
      "metadata": {
        "id": "DplMrGxPkDDl"
      },
      "source": [
        "### Here is a list of Python key words"
      ]
    },
    {
      "cell_type": "markdown",
      "metadata": {
        "id": "rFufV_iZkDDl"
      },
      "source": [
        "|   |   |   |   |   |\n",
        "|:---|:---|:---|:---|:---|\n",
        "|`and`|`as`|`assert`|`break`\n",
        "|`class`|`continue`|`def`|`del`  \n",
        "|`elif`|`else`|`except`|`exec`\n",
        "|`finally`|`for`|`from`|`global`\n",
        "|`if`|`import`|`in`|` is`\n",
        "|`lambda`|`not`|`or`|` pass`\n",
        "|`print`|`raise`|`return`|`try`\n",
        "|`while`|`with`|`yield`\n",
        "\n",
        "Taken from [Lean Python](http://file.allitebooks.com/20161117/Lean%20Python.pdf)"
      ]
    },
    {
      "cell_type": "markdown",
      "metadata": {
        "id": "fjsV67VmkDDl"
      },
      "source": [
        "### Defining variables:"
      ]
    },
    {
      "cell_type": "markdown",
      "metadata": {
        "id": "i2ddJbcTkDDl"
      },
      "source": [
        "In python you do not need to declare the type of the variable. The interpreter will infer them dynamically.\n",
        "In Python you can find the type out using `type()`. Defining variables is just as easy as using `=`. All variables have a type analogue to Java or any other programming language."
      ]
    },
    {
      "cell_type": "code",
      "execution_count": 1,
      "metadata": {
        "id": "Jawfjua4kDDl"
      },
      "outputs": [],
      "source": [
        "a = 4   # I'm an integer\n",
        "b = 5.2 # I'm a float"
      ]
    },
    {
      "cell_type": "code",
      "execution_count": null,
      "metadata": {
        "id": "gVS4B4b3kDDm",
        "colab": {
          "base_uri": "https://localhost:8080/"
        },
        "outputId": "2c9f638e-3672-4297-f389-25b22b6e1183"
      },
      "outputs": [
        {
          "output_type": "stream",
          "name": "stdout",
          "text": [
            "3\n"
          ]
        }
      ],
      "source": [
        "variable = \"I'm a variable\" # This is a string\n",
        "\n",
        "c, d, e = 1, 2, 3 # this is the same as saying c = 1, d =  2, e = 3\n",
        "\n",
        "print(e)"
      ]
    },
    {
      "cell_type": "markdown",
      "source": [
        "#### TASK1: type of variables"
      ],
      "metadata": {
        "id": "JvTNHbcSMqIp"
      }
    },
    {
      "cell_type": "code",
      "execution_count": null,
      "metadata": {
        "id": "2k2DsKVlkDDm",
        "colab": {
          "base_uri": "https://localhost:8080/"
        },
        "outputId": "2f51c2e6-30c5-4e23-e5fa-cb92ffa02f3b"
      },
      "outputs": [
        {
          "output_type": "stream",
          "name": "stdout",
          "text": [
            "<class 'int'> <class 'float'>\n"
          ]
        }
      ],
      "source": [
        "# Now it's your turn to find out, what is the type of variable, a and b\n",
        "type_a = None\n",
        "type_b = None\n",
        "## YOUR_CODE_STARTS_HERE\n",
        "type_a = type(a)\n",
        "type_b = type(b)\n",
        "## YOUR_CODE_ENDS_HERE\n",
        "## RESULT_CHECKING_POINT (result should be <class 'int'> <class 'float'>)\n",
        "print(type_a, type_b)"
      ]
    },
    {
      "cell_type": "markdown",
      "metadata": {
        "id": "UZPUTMhCkDDm"
      },
      "source": [
        "What about math opperations, what type should come out of summing __a__ and __b__"
      ]
    },
    {
      "cell_type": "code",
      "execution_count": null,
      "metadata": {
        "id": "pxLv5SRzkDDm",
        "colab": {
          "base_uri": "https://localhost:8080/"
        },
        "outputId": "ae529916-8e0a-4241-d946-904cf2e65b41"
      },
      "outputs": [
        {
          "output_type": "stream",
          "name": "stdout",
          "text": [
            "4.0\n"
          ]
        }
      ],
      "source": [
        "# let's try it out!\n",
        "\n",
        "print(a % b) # Mixing integer and float numbers results in float type"
      ]
    },
    {
      "cell_type": "markdown",
      "metadata": {
        "id": "h_XKYWrKkDDm"
      },
      "source": [
        "#### TASK2: What about substraction and so on?"
      ]
    },
    {
      "cell_type": "code",
      "execution_count": null,
      "metadata": {
        "id": "VpQo8F0LkDDm",
        "colab": {
          "base_uri": "https://localhost:8080/"
        },
        "outputId": "3c58ed8e-af39-4592-d8ac-5b540f033a5d"
      },
      "outputs": [
        {
          "output_type": "stream",
          "name": "stdout",
          "text": [
            "-1.2000000000000002 20.8 None None\n"
          ]
        }
      ],
      "source": [
        "# It's your turn to compute these :)\n",
        "sub_a_b = None\n",
        "mul_a_b = None\n",
        "div_a_b = None\n",
        "mod_d_e = None\n",
        "\n",
        "# substraction\n",
        "## YOUR_CODE_STARTS_HERE\n",
        "sub_a_b = a - b\n",
        "mul_a_b = a * b\n",
        "...\n",
        "## YOUR_CODE_ENDS_HERE\n",
        "## RESULT_CHECKING_POINT (result should be -1.2000000000000002 20.8 0.7692307692307692 2)\n",
        "print(sub_a_b, mul_a_b, div_a_b, mod_d_e)"
      ]
    },
    {
      "cell_type": "markdown",
      "metadata": {
        "id": "EBJ8L04fkDDm"
      },
      "source": [
        "__Question__: What is the resulting type of a multiplication and what is the resulting type of a division? Are the results always of the same type?"
      ]
    },
    {
      "cell_type": "markdown",
      "metadata": {
        "id": "9VNhd-24kDDm"
      },
      "source": [
        "### Blocks"
      ]
    },
    {
      "cell_type": "markdown",
      "metadata": {
        "id": "FDifO-AtkDDm"
      },
      "source": [
        "In Python each statement is defined in a line. Sometimes, you can use a semicolon (;) to define several statement in a line.\n",
        "\n",
        "Other programming languages have { ... } to define a block, in Python we have **identation** and colon (:) in order to open the block.\n"
      ]
    },
    {
      "cell_type": "code",
      "execution_count": null,
      "metadata": {
        "id": "MTxAwJOUkDDm",
        "colab": {
          "base_uri": "https://localhost:8080/"
        },
        "outputId": "dfd7e0db-5a8c-4111-c32e-e5a125a14b4a"
      },
      "outputs": [
        {
          "output_type": "stream",
          "name": "stdout",
          "text": [
            "x is equal to 5\n",
            "end of the if\n"
          ]
        }
      ],
      "source": [
        "# if-statement - what will be the output?\n",
        "\n",
        "x = 5\n",
        "\n",
        "if x < 5:\n",
        "  print('x is smaller than 5')\n",
        "elif x == 5:\n",
        "  print('x is equal to 5')\n",
        "else:\n",
        "  print('x is greater than 5')\n",
        "print('end of the if')"
      ]
    },
    {
      "cell_type": "code",
      "execution_count": null,
      "metadata": {
        "id": "9hb7qieTkDDm",
        "collapsed": true,
        "colab": {
          "base_uri": "https://localhost:8080/"
        },
        "outputId": "403bed5f-a49d-4efc-8193-b13438b92dd6"
      },
      "outputs": [
        {
          "output_type": "stream",
          "name": "stdout",
          "text": [
            "0\n",
            "1\n",
            "2\n",
            "3\n",
            "4\n"
          ]
        }
      ],
      "source": [
        "# What can you say about this loop?\n",
        "\n",
        "count = 0\n",
        "while count < 5: # Here begins my block\n",
        "    print(count)\n",
        "\n",
        "    count += 1"
      ]
    },
    {
      "cell_type": "markdown",
      "metadata": {
        "id": "T6_gJM1dkDDm"
      },
      "source": [
        "__Question__: What do we have to change for counting up to 5?<br>"
      ]
    },
    {
      "cell_type": "markdown",
      "source": [
        "#### TASK3: sum up all numbers from 1 to 100"
      ],
      "metadata": {
        "id": "P4znzWA3OIRq"
      }
    },
    {
      "cell_type": "code",
      "execution_count": null,
      "metadata": {
        "id": "zk3C2uQIkDDm",
        "colab": {
          "base_uri": "https://localhost:8080/"
        },
        "outputId": "0140e76d-a81a-4e98-9a49-37127e99b3d3"
      },
      "outputs": [
        {
          "output_type": "stream",
          "name": "stdout",
          "text": [
            "5050\n"
          ]
        }
      ],
      "source": [
        "sum_1_to_100 = None\n",
        "## YOUR_CODE_STARTS_HERE\n",
        "sum_1_to_100 = 0\n",
        "for i in range(1, 100 + 1, 1):\n",
        "  sum_1_to_100 += i\n",
        "## YOUR_CODE_ENDS_HERE\n",
        "## RESULT_CHECKING_POINT (result should be 5050)\n",
        "print(sum_1_to_100)"
      ]
    },
    {
      "cell_type": "markdown",
      "metadata": {
        "id": "1JnjRkgOkDDn"
      },
      "source": [
        "#### TASK4: sum up all numbers from 1 to 100 that are divisible by 3"
      ]
    },
    {
      "cell_type": "code",
      "execution_count": null,
      "metadata": {
        "id": "bVv_IvcIkDDn",
        "colab": {
          "base_uri": "https://localhost:8080/"
        },
        "outputId": "aefbcd01-7c03-4de3-edec-668ee59316e4"
      },
      "outputs": [
        {
          "output_type": "stream",
          "name": "stdout",
          "text": [
            "1683\n"
          ]
        }
      ],
      "source": [
        "result = None\n",
        "## YOUR_CODE_STARTS_HERE\n",
        "result = 0\n",
        "for i in range(1, 100 + 1, 1):\n",
        "  if i % 3 == 0:\n",
        "    result += i\n",
        "## YOUR_CODE_ENDS_HERE\n",
        "## RESULT_CHECKING_POINT (result should be 1683)\n",
        "print(result)"
      ]
    },
    {
      "cell_type": "markdown",
      "metadata": {
        "id": "5m2HnS7CkDDn"
      },
      "source": [
        "### Strings"
      ]
    },
    {
      "cell_type": "markdown",
      "metadata": {
        "id": "E4gwMf5ukDDn"
      },
      "source": [
        "Let's focus on strings because this class will be mainly on how we handle strings and many fun things that we can make with text. Again as we saw in our *hello world* example, we need quote to create a string, whether single (') or double (\") quotes it's actually not important, but **don't mix them**. Strings are a sequence of characters that concatenated form a text. We can also have one character strings or an empty string."
      ]
    },
    {
      "cell_type": "code",
      "execution_count": 2,
      "metadata": {
        "id": "KjAdocLVkDDn"
      },
      "outputs": [],
      "source": [
        "first_str = 'Hello'\n",
        "first_str = \"Hello\"\n",
        "second_str = \"world\"\n",
        "empty_str = \"\"\n",
        "one_ch_str = \"!\""
      ]
    },
    {
      "cell_type": "markdown",
      "metadata": {
        "id": "HjofOPCSkDDn"
      },
      "source": [
        "#### String operations"
      ]
    },
    {
      "cell_type": "code",
      "execution_count": 3,
      "metadata": {
        "id": "E4b35okmkDDn",
        "colab": {
          "base_uri": "https://localhost:8080/"
        },
        "outputId": "5b8bc443-e112-4a35-8cb1-29236767c34b"
      },
      "outputs": [
        {
          "output_type": "stream",
          "name": "stdout",
          "text": [
            "Helloworld!\n"
          ]
        }
      ],
      "source": [
        "# Concatenation\n",
        "\n",
        "print(first_str + second_str + one_ch_str)"
      ]
    },
    {
      "cell_type": "markdown",
      "metadata": {
        "id": "EyKIH8cfkDDn"
      },
      "source": [
        "What's missing?"
      ]
    },
    {
      "cell_type": "code",
      "execution_count": 4,
      "metadata": {
        "id": "v_JC44fLkDDn",
        "colab": {
          "base_uri": "https://localhost:8080/"
        },
        "outputId": "64ea527a-fca1-40f1-f635-9deb507edda4"
      },
      "outputs": [
        {
          "output_type": "stream",
          "name": "stdout",
          "text": [
            "Hello world!\n"
          ]
        }
      ],
      "source": [
        "space_str = \" \"\n",
        "print(first_str + space_str + second_str + one_ch_str)"
      ]
    },
    {
      "cell_type": "code",
      "execution_count": 5,
      "metadata": {
        "id": "sPix9DjKkDDn",
        "colab": {
          "base_uri": "https://localhost:8080/"
        },
        "outputId": "bae5531f-de5d-4313-9e1e-5a32cc030fc6"
      },
      "outputs": [
        {
          "output_type": "stream",
          "name": "stdout",
          "text": [
            "Hello world!!!!!\n"
          ]
        }
      ],
      "source": [
        "# Repetition of strings\n",
        "\n",
        "print(first_str + space_str + second_str + (one_ch_str * 5))"
      ]
    },
    {
      "cell_type": "code",
      "execution_count": 6,
      "metadata": {
        "id": "M0RlEcPfkDDn",
        "colab": {
          "base_uri": "https://localhost:8080/"
        },
        "outputId": "10d2108f-bb90-4ed7-8b21-b2dca437d6f9"
      },
      "outputs": [
        {
          "output_type": "stream",
          "name": "stdout",
          "text": [
            "Hello \n"
          ]
        }
      ],
      "source": [
        "greeting = first_str + space_str\n",
        "print(greeting)"
      ]
    },
    {
      "cell_type": "markdown",
      "metadata": {
        "id": "StknEMl_kDDn"
      },
      "source": [
        "__Important__: We can also use ordinary \"arithmetic\" operations on strings. So keep in mind, that the operators are overloaded."
      ]
    },
    {
      "cell_type": "code",
      "execution_count": 7,
      "metadata": {
        "id": "HWCx8yT0kDDn",
        "colab": {
          "base_uri": "https://localhost:8080/"
        },
        "outputId": "ec3f0446-8f82-429b-df9d-14c3eecb292d"
      },
      "outputs": [
        {
          "output_type": "stream",
          "name": "stdout",
          "text": [
            "Hello \n",
            "world\n",
            "Hello world\n"
          ]
        }
      ],
      "source": [
        "print(greeting)\n",
        "print(second_str)\n",
        "greeting += second_str\n",
        "print(greeting)"
      ]
    },
    {
      "cell_type": "markdown",
      "metadata": {
        "id": "so_EQkRlkDDn"
      },
      "source": [
        "__Question__: What is the problem with following instruction?"
      ]
    },
    {
      "cell_type": "markdown",
      "source": [
        "*In Python, exceptions are errors that occur during the execution of a program. Instead of causing the program to crash, exceptions can be caught and handled so that the program can continue running.*"
      ],
      "metadata": {
        "id": "wuyf6yOJAgsV"
      }
    },
    {
      "cell_type": "code",
      "source": [
        "n = 5.0\n",
        "print('The value of n is ' + str(n))"
      ],
      "metadata": {
        "colab": {
          "base_uri": "https://localhost:8080/"
        },
        "id": "d5QV_petB8zH",
        "outputId": "8e2d740f-a073-419f-90ee-11eb000e2b4b"
      },
      "execution_count": 10,
      "outputs": [
        {
          "output_type": "stream",
          "name": "stdout",
          "text": [
            "The value of n is 5.0\n"
          ]
        }
      ]
    },
    {
      "cell_type": "code",
      "execution_count": 11,
      "metadata": {
        "id": "m55eVszikDDn",
        "colab": {
          "base_uri": "https://localhost:8080/"
        },
        "outputId": "0e2df749-6d39-416e-975f-a5ffa147eb35"
      },
      "outputs": [
        {
          "output_type": "stream",
          "name": "stdout",
          "text": [
            "The value of n is 5\n"
          ]
        }
      ],
      "source": [
        "n = 5\n",
        "try:\n",
        "  print('The value of n is ' + str(n))\n",
        "except Exception as e:\n",
        "  print(e)"
      ]
    },
    {
      "cell_type": "markdown",
      "metadata": {
        "id": "zV4X9mz1kDDn"
      },
      "source": [
        "#### TASK5: The value of n is 5"
      ]
    },
    {
      "cell_type": "markdown",
      "source": [
        "Fix the issue above and print the string \"The value of n is 5\" using str concatentation operation"
      ],
      "metadata": {
        "id": "_PzfUEshuTfi"
      }
    },
    {
      "cell_type": "code",
      "source": [
        "int(\"5\")"
      ],
      "metadata": {
        "colab": {
          "base_uri": "https://localhost:8080/"
        },
        "id": "AgURyZhJC0sD",
        "outputId": "4f321b08-b01c-4a19-86cd-c1eee0ab4b73"
      },
      "execution_count": 12,
      "outputs": [
        {
          "output_type": "execute_result",
          "data": {
            "text/plain": [
              "5"
            ]
          },
          "metadata": {},
          "execution_count": 12
        }
      ]
    },
    {
      "cell_type": "code",
      "execution_count": null,
      "metadata": {
        "id": "k_rZHT6XkDDo"
      },
      "outputs": [],
      "source": [
        "## YOUR_CODE_STARTS_HERE\n",
        "n = 5\n",
        "print('The value of n is ' + str(n))\n",
        "## YOUR_CODE_ENDS_HERE\n",
        "## RESULT_CHECKING_POINT (result should be \"The value of n is 5\")"
      ]
    },
    {
      "cell_type": "markdown",
      "metadata": {
        "id": "5S4wjpG9kDDo"
      },
      "source": [
        "We can index elements using [ ] as follows"
      ]
    },
    {
      "cell_type": "code",
      "execution_count": 13,
      "metadata": {
        "id": "Pz_YomGvkDDo",
        "colab": {
          "base_uri": "https://localhost:8080/"
        },
        "outputId": "57240305-a7e8-4435-84da-8f2f2ec39df5"
      },
      "outputs": [
        {
          "output_type": "stream",
          "name": "stdout",
          "text": [
            "Hello\n",
            "o\n"
          ]
        }
      ],
      "source": [
        "print(first_str)\n",
        "print(first_str[4])"
      ]
    },
    {
      "cell_type": "code",
      "execution_count": 14,
      "metadata": {
        "id": "crJSIuoqkDDo",
        "colab": {
          "base_uri": "https://localhost:8080/"
        },
        "outputId": "60c642cc-619b-443f-c334-57aefb9b2d98"
      },
      "outputs": [
        {
          "output_type": "stream",
          "name": "stdout",
          "text": [
            "eumo\n",
            "niosi\n"
          ]
        }
      ],
      "source": [
        "long_str = \"pneumonoultramicroscopicsilicovolcanoconiosis\"\n",
        "\n",
        "# Index ranges\n",
        "\n",
        "print(long_str[2:6]) #== long_str[0:6]\n",
        "print(long_str[-6:-1]) #== long_str[0:6]"
      ]
    },
    {
      "cell_type": "markdown",
      "metadata": {
        "id": "ZcjWaP-skDDo"
      },
      "source": [
        "__Question__: How many characters does long_str[:6] contain? What can we implicate for the last index?\n",
        "\n",
        "Indexes begin with 0 and end with length -1. __Attention__: The last position (index) of a string is long_str[-1] == long_str[len(long_str) - 1], but in a range the last index is exclusive."
      ]
    },
    {
      "cell_type": "code",
      "execution_count": 15,
      "metadata": {
        "id": "6Fje6RURkDDo",
        "colab": {
          "base_uri": "https://localhost:8080/"
        },
        "outputId": "32d1b7ec-f46a-46df-ebc3-fa0194199362"
      },
      "outputs": [
        {
          "output_type": "stream",
          "name": "stdout",
          "text": [
            "45\n"
          ]
        }
      ],
      "source": [
        "print(len(long_str))"
      ]
    },
    {
      "cell_type": "code",
      "execution_count": 16,
      "metadata": {
        "id": "2tlqIOH7kDDo",
        "colab": {
          "base_uri": "https://localhost:8080/"
        },
        "outputId": "9e5c5f02-d994-450d-caa2-e4b02d2e6342"
      },
      "outputs": [
        {
          "output_type": "stream",
          "name": "stdout",
          "text": [
            "volcanoconiosi\n"
          ]
        }
      ],
      "source": [
        "print(long_str[30:-1])"
      ]
    },
    {
      "cell_type": "markdown",
      "metadata": {
        "id": "o_GFIW1TkDDo"
      },
      "source": [
        "__Question__: We saw above the equivalence of long_str[:6] == long_str[0:6]. What is the equivalent expression to the following instruction?"
      ]
    },
    {
      "cell_type": "code",
      "execution_count": 17,
      "metadata": {
        "id": "o4qnn4dNkDDo",
        "colab": {
          "base_uri": "https://localhost:8080/"
        },
        "outputId": "e1be2ad7-8378-4c24-a61e-e140ab5328a0"
      },
      "outputs": [
        {
          "output_type": "stream",
          "name": "stdout",
          "text": [
            "pneumonoultramicroscopicsilicovolcanoconiosis\n",
            "volcanoconiosis\n",
            "volcanoconiosis\n"
          ]
        }
      ],
      "source": [
        "print(long_str)\n",
        "print(long_str[30:])\n",
        "print(long_str[30:len(long_str)])"
      ]
    },
    {
      "cell_type": "markdown",
      "metadata": {
        "id": "tpedovXLkDDo"
      },
      "source": [
        "An overview of logical operators:\n",
        "\n",
        "- == equal\n",
        "- != unequal\n",
        "- < less than\n",
        "- \\> greater than\n",
        "- <= less than or equal to >= greater than or equal to"
      ]
    },
    {
      "cell_type": "markdown",
      "metadata": {
        "id": "8zLdvOo8kDDo"
      },
      "source": [
        "### Important!\n",
        "- == means comparison\n",
        "- = means assignment"
      ]
    },
    {
      "cell_type": "code",
      "execution_count": 18,
      "metadata": {
        "id": "pCNcQN6RkDDp",
        "colab": {
          "base_uri": "https://localhost:8080/"
        },
        "outputId": "cae4db94-7b7e-46dd-90c2-d3c28be42ab2"
      },
      "outputs": [
        {
          "output_type": "stream",
          "name": "stdout",
          "text": [
            "Hello\n",
            "True\n",
            "False\n"
          ]
        }
      ],
      "source": [
        "print(first_str)\n",
        "print(first_str[2] == first_str[3])\n",
        "print(first_str[1] == first_str[3])"
      ]
    },
    {
      "cell_type": "markdown",
      "metadata": {
        "id": "Uhr_BPmekDDp"
      },
      "source": [
        "#### TASK 6: how many o's do we have in `long_str`"
      ]
    },
    {
      "cell_type": "code",
      "source": [
        "print(long_str)"
      ],
      "metadata": {
        "colab": {
          "base_uri": "https://localhost:8080/"
        },
        "id": "73BGvMoZEffN",
        "outputId": "48a215ca-dab5-41d8-8905-ed6b02ec332c"
      },
      "execution_count": 19,
      "outputs": [
        {
          "output_type": "stream",
          "name": "stdout",
          "text": [
            "pneumonoultramicroscopicsilicovolcanoconiosis\n"
          ]
        }
      ]
    },
    {
      "cell_type": "code",
      "execution_count": 20,
      "metadata": {
        "id": "mFORJblLkDDp",
        "colab": {
          "base_uri": "https://localhost:8080/"
        },
        "outputId": "76b585b4-b4f2-4624-95a9-ed658ef3bbea"
      },
      "outputs": [
        {
          "output_type": "stream",
          "name": "stdout",
          "text": [
            "9\n"
          ]
        }
      ],
      "source": [
        "count = None\n",
        "## YOUR_CODE_STARTS_HERE\n",
        "count = 0\n",
        "for ch in long_str:\n",
        "  if ch == 'o':\n",
        "    count += 1\n",
        "## YOUR_CODE_ENDS_HERE\n",
        "## RESULT_CHECKING_POINT (result should be 9)\n",
        "print(count)"
      ]
    },
    {
      "cell_type": "markdown",
      "metadata": {
        "id": "Pdyc2JrfkDDp"
      },
      "source": [
        "#### String Methods"
      ]
    },
    {
      "cell_type": "markdown",
      "metadata": {
        "id": "t8uECnUOkDDp"
      },
      "source": [
        "There are several methods provided to support transforming, validating and in general working with strings. Here we have some of them."
      ]
    },
    {
      "cell_type": "code",
      "execution_count": 21,
      "metadata": {
        "id": "TbG9bHfZkDDp"
      },
      "outputs": [],
      "source": [
        "text = 'This is text'\n",
        "nums = '123456'"
      ]
    },
    {
      "cell_type": "markdown",
      "metadata": {
        "id": "s_glYnlDkDDp"
      },
      "source": [
        "#### `str.find`"
      ]
    },
    {
      "cell_type": "code",
      "execution_count": null,
      "metadata": {
        "id": "Ei_TpCVEkDDp",
        "colab": {
          "base_uri": "https://localhost:8080/"
        },
        "outputId": "a0f33e35-c312-43ef-9943-46091583aa7f"
      },
      "outputs": [
        {
          "output_type": "stream",
          "name": "stdout",
          "text": [
            "2 -1\n"
          ]
        }
      ],
      "source": [
        "find1 = text.find('is')\n",
        "find2 = text.find('your')\n",
        "print(find1, find2)"
      ]
    },
    {
      "cell_type": "markdown",
      "metadata": {
        "id": "xKpBCJlykDDp"
      },
      "source": [
        "__Question__: What is the output of the find-method?\n",
        "\n",
        "__Task__: We want to get a user-friendly output if the words 'is' or 'your' can be found in the variable `text`, i.e.<br>\n",
        "'is' found in 'This is text'<br>\n",
        "'your' found in 'This is text'<br>\n",
        "if both words could be found in the text or the negated form if the word wasn't found. Try to be most generic as possible, i.e. hard code as few as possible."
      ]
    },
    {
      "cell_type": "code",
      "source": [
        "print(text)"
      ],
      "metadata": {
        "colab": {
          "base_uri": "https://localhost:8080/"
        },
        "id": "knWZQSUeFc7B",
        "outputId": "68a30e84-daa2-4048-e62f-328bb05d4ca8"
      },
      "execution_count": null,
      "outputs": [
        {
          "output_type": "stream",
          "name": "stdout",
          "text": [
            "This is text\n"
          ]
        }
      ]
    },
    {
      "cell_type": "code",
      "source": [
        "SUBSTRING_NOT_EXISTS = None\n",
        "\n",
        "## YOUR_CODE_STARTS_HERE\n",
        "# Assign the value to `SUBSTRING_NOT_EXISTS`\n",
        "SUBSTRING_NOT_EXISTS = -1\n",
        "## YOUR_CODE_ENDS_HERE\n",
        "\n",
        "## RESULT_CHECKING_POINT (result should be \"is does exist\" \"your does not exist\")\n",
        "for substr in ['is', 'your']:\n",
        "    if text.find(substr) == SUBSTRING_NOT_EXISTS:\n",
        "        print(substr + \" does not exist\")\n",
        "    else:\n",
        "        print(substr + \" does exist\")"
      ],
      "metadata": {
        "colab": {
          "base_uri": "https://localhost:8080/"
        },
        "id": "IcDkPmb806Lu",
        "outputId": "6ddc7025-3224-48b0-ae06-45410700a6e7"
      },
      "execution_count": null,
      "outputs": [
        {
          "output_type": "stream",
          "name": "stdout",
          "text": [
            "is does exist\n",
            "your does not exist\n"
          ]
        }
      ]
    },
    {
      "cell_type": "markdown",
      "metadata": {
        "id": "tr-3Y-QvkDDp"
      },
      "source": [
        "####  Validation checks `str.isxxx`"
      ]
    },
    {
      "cell_type": "code",
      "execution_count": null,
      "metadata": {
        "id": "uG7JjyFukDDp",
        "colab": {
          "base_uri": "https://localhost:8080/"
        },
        "outputId": "5f930bb1-9378-465f-8e23-6217b7b76f89"
      },
      "outputs": [
        {
          "output_type": "execute_result",
          "data": {
            "text/plain": [
              "True"
            ]
          },
          "metadata": {},
          "execution_count": 47
        }
      ],
      "source": [
        "text.isalpha()\n",
        "text.isdigit()\n",
        "nums.isdigit()"
      ]
    },
    {
      "cell_type": "markdown",
      "metadata": {
        "id": "1XsdBLP5kDDp"
      },
      "source": [
        "#### Concatenation: `str.join`"
      ]
    },
    {
      "cell_type": "code",
      "source": [
        "print(text)\n",
        "print( nums)"
      ],
      "metadata": {
        "colab": {
          "base_uri": "https://localhost:8080/"
        },
        "id": "do5ksmqmFqxu",
        "outputId": "c2bc1e5c-09d5-4a17-a426-68629b363664"
      },
      "execution_count": null,
      "outputs": [
        {
          "output_type": "stream",
          "name": "stdout",
          "text": [
            "This is text\n",
            "123456\n"
          ]
        }
      ]
    },
    {
      "cell_type": "code",
      "execution_count": null,
      "metadata": {
        "id": "MVfN20sOkDDp",
        "colab": {
          "base_uri": "https://localhost:8080/"
        },
        "outputId": "c0744f4d-1fb2-467f-db7a-772d78a0ecde"
      },
      "outputs": [
        {
          "output_type": "stream",
          "name": "stdout",
          "text": [
            "This is text123456\n",
            "This is text 123456\n"
          ]
        }
      ],
      "source": [
        "print(''.join((text,nums)))\n",
        "print(' '.join((text,nums)))"
      ]
    },
    {
      "cell_type": "markdown",
      "metadata": {
        "id": "erXuRfg7kDDp"
      },
      "source": [
        "#### Format important!!!"
      ]
    },
    {
      "cell_type": "code",
      "execution_count": null,
      "metadata": {
        "id": "s8H-zO1QkDDp",
        "colab": {
          "base_uri": "https://localhost:8080/"
        },
        "outputId": "86c632c2-0dd3-40f7-e867-48259880684d"
      },
      "outputs": [
        {
          "output_type": "stream",
          "name": "stdout",
          "text": [
            "John Doe is 24 years old\n",
            "John Doe is 24 years old\n",
            "John Doe is 24 years old\n"
          ]
        }
      ],
      "source": [
        "fname = \"John\"\n",
        "lname = \"Doe\"\n",
        "age = \"24\"\n",
        "print(\"{first} {last} is {age} years old\".format(first=fname, last=lname, age=age))\n",
        "print(f\"{fname} {lname} is {age} years old\")\n",
        "print(\"%s %s is %s years old\" % (fname, lname, age))  # old c-like way"
      ]
    },
    {
      "cell_type": "markdown",
      "metadata": {
        "id": "m3VAjT9NkDDq"
      },
      "source": [
        "#### Case changing `str.upper` and `str.lower`. Important!!!"
      ]
    },
    {
      "cell_type": "code",
      "execution_count": null,
      "metadata": {
        "id": "LgUvjZnvkDDq",
        "colab": {
          "base_uri": "https://localhost:8080/"
        },
        "outputId": "22b5ed09-fec6-4c2c-ff79-226ddf635fe1"
      },
      "outputs": [
        {
          "output_type": "stream",
          "name": "stdout",
          "text": [
            "This is text\n",
            "THIS IS TEXT\n",
            "this is text\n"
          ]
        }
      ],
      "source": [
        "print(text)\n",
        "print(text.upper())\n",
        "print(text.lower())"
      ]
    },
    {
      "cell_type": "markdown",
      "metadata": {
        "id": "Zj0-T1VHkDDq"
      },
      "source": [
        "#### `str.split`"
      ]
    },
    {
      "cell_type": "code",
      "execution_count": null,
      "metadata": {
        "id": "TcJ1fk-OkDDq",
        "colab": {
          "base_uri": "https://localhost:8080/"
        },
        "outputId": "63862cee-dba9-446c-f72a-ed2d9dcfb36c"
      },
      "outputs": [
        {
          "output_type": "stream",
          "name": "stdout",
          "text": [
            "This is text\n"
          ]
        },
        {
          "output_type": "execute_result",
          "data": {
            "text/plain": [
              "['This', 'is', 'text']"
            ]
          },
          "metadata": {},
          "execution_count": 53
        }
      ],
      "source": [
        "print(text)\n",
        "text.split(' ')"
      ]
    },
    {
      "cell_type": "markdown",
      "metadata": {
        "id": "FSOairTvkDDq"
      },
      "source": [
        "#### Substitution"
      ]
    },
    {
      "cell_type": "code",
      "execution_count": null,
      "metadata": {
        "id": "jSdvqKr6kDDq",
        "colab": {
          "base_uri": "https://localhost:8080/",
          "height": 36
        },
        "outputId": "8da72d2f-bcb0-446f-ad23-3bbddbda2c4c"
      },
      "outputs": [
        {
          "output_type": "execute_result",
          "data": {
            "text/plain": [
              "'Thwas was text'"
            ],
            "application/vnd.google.colaboratory.intrinsic+json": {
              "type": "string"
            }
          },
          "metadata": {},
          "execution_count": 54
        }
      ],
      "source": [
        "text.replace('is','was')"
      ]
    },
    {
      "cell_type": "markdown",
      "metadata": {
        "id": "otz_eQ02kDDq"
      },
      "source": [
        "#### Stripping"
      ]
    },
    {
      "cell_type": "code",
      "execution_count": null,
      "metadata": {
        "id": "ab8M85uCkDDq",
        "colab": {
          "base_uri": "https://localhost:8080/"
        },
        "outputId": "3020f421-02f4-4135-8733-6ab3df07a2d2"
      },
      "outputs": [
        {
          "output_type": "execute_result",
          "data": {
            "text/plain": [
              "(' a sentence with extra space',\n",
              " 'a sentence with extra space    ',\n",
              " 'a sentence with extra space')"
            ]
          },
          "metadata": {},
          "execution_count": 55
        }
      ],
      "source": [
        "text_with_space = \" a sentence with extra space    \"\n",
        "text_with_space.rstrip(), text_with_space.lstrip(), text_with_space.strip()"
      ]
    },
    {
      "cell_type": "markdown",
      "source": [
        "#### TASK 7: strip noise"
      ],
      "metadata": {
        "id": "1kA_JXiK5WyV"
      }
    },
    {
      "cell_type": "code",
      "source": [
        "# be careful with the cases when there is an argument:\n",
        "text_with_noise = \"a sentence..^%&^%&^\"\n",
        "strip_argument = None\n",
        "\n",
        "## YOUR_CODE_STARTS_HERE\n",
        "# assign your values to `strip_argument`. Be as concise as possible\n",
        "strip_argument = \"^&.%\"\n",
        "## YOUR_CODE_ENDS_HERE\n",
        "\n",
        "## RESULT_CHECKING_POINT  (result should be \"a sentence\")\n",
        "print(text_with_noise.strip(strip_argument))"
      ],
      "metadata": {
        "colab": {
          "base_uri": "https://localhost:8080/"
        },
        "id": "VI1vlPOk4cBj",
        "outputId": "b75e98d2-0b2b-44ef-9957-1f5eb3d750c0"
      },
      "execution_count": null,
      "outputs": [
        {
          "output_type": "stream",
          "name": "stdout",
          "text": [
            "a sentence\n"
          ]
        }
      ]
    },
    {
      "cell_type": "markdown",
      "metadata": {
        "id": "-xGfwBynkDDq"
      },
      "source": [
        "# Functions and Data Structures\n",
        "Some tasks are based on tasks on https://www.practicepython.org/.<br>\n",
        "For better readability and encapsulation of our code, we can define **function**s, that perform specific instructions. We can call functions with inputs and functions may return an output, but don't have to. A function can be defined with the keyword *def* followed by the name of the function."
      ]
    },
    {
      "cell_type": "code",
      "execution_count": null,
      "metadata": {
        "id": "qcuY1uofkDDq"
      },
      "outputs": [],
      "source": [
        "# Function without input and without output\n",
        "def hello_world():\n",
        "    print('Hello World!')\n",
        "\n",
        "# Function with input, but without output\n",
        "def print_my_input(my_input):\n",
        "    print(my_input)\n",
        "\n",
        "# Function with input and output\n",
        "def add(value1, value2):\n",
        "    return value1 + value2"
      ]
    },
    {
      "cell_type": "markdown",
      "metadata": {
        "id": "yXSExvGfkDDq"
      },
      "source": [
        "Defined functions can be called by typing the function name:"
      ]
    },
    {
      "cell_type": "code",
      "execution_count": null,
      "metadata": {
        "id": "i9uLYg21kDDq",
        "colab": {
          "base_uri": "https://localhost:8080/"
        },
        "outputId": "237b452c-f7ae-4197-fdde-56d2bd6a2950"
      },
      "outputs": [
        {
          "output_type": "stream",
          "name": "stdout",
          "text": [
            "Hello World!\n",
            "Hello World!\n",
            "4\n"
          ]
        }
      ],
      "source": [
        "hello_world()\n",
        "print_my_input('Hello World!')\n",
        "print(add(1, 3))"
      ]
    },
    {
      "cell_type": "markdown",
      "metadata": {
        "id": "EztuxEapkDDq"
      },
      "source": [
        "## `list`\n",
        "\n",
        "Lists in Python are like magic they may contain all kinds of objects together e.g. float, integers, strings even lists inside lists as we had in our previous exercise submission.\n"
      ]
    },
    {
      "cell_type": "markdown",
      "metadata": {
        "id": "naqw_OvukDDr"
      },
      "source": [
        "#### Task 7: iterate over list\n",
        "Iterate over the list and store its element less than 15 into `new_list`"
      ]
    },
    {
      "cell_type": "code",
      "execution_count": null,
      "metadata": {
        "id": "XnOUGsswkDDr",
        "colab": {
          "base_uri": "https://localhost:8080/"
        },
        "outputId": "8f386236-c565-4dc8-c2bd-e404d61b0100"
      },
      "outputs": [
        {
          "output_type": "stream",
          "name": "stdout",
          "text": [
            "[]\n",
            "[3]\n",
            "[3, 7]\n",
            "[3, 7, 10]\n",
            "[3, 7, 10, 8]\n",
            "[3, 7, 10, 8, 12]\n",
            "[3, 7, 10, 8, 12, 5]\n",
            "[3, 7, 10, 8, 12, 5, 13]\n",
            "[3, 7, 10, 8, 12, 5, 13, 9]\n"
          ]
        }
      ],
      "source": [
        "list_of_numbers = [3, 7, 10, 23, 8, 15, 34, 12, 16, 5, 45, 63, 13, 9]\n",
        "new_list = None\n",
        "## YOUR_CODE_STARTS_HERE\n",
        "new_list = []\n",
        "for num in list_of_numbers:\n",
        "  if num < 15:\n",
        "    print(new_list)\n",
        "    new_list.append(num)\n",
        "## YOUR_CODE_ENDS_HERE\n",
        "## RESULT_CHECKING_POINT  (result should be [3, 7, 10, 8, 12, 5, 13, 9])\n",
        "print(new_list)"
      ]
    },
    {
      "cell_type": "markdown",
      "metadata": {
        "id": "Ph_1fTwqkDDr"
      },
      "source": [
        "#### Task 8: write function `list_intersection`\n",
        "\n",
        "Given two input lists, write a function to output the intersection without duplicates.\n",
        "\n",
        "> Hint: use `in` in the condition, e.g. `1 in [1,2]` and `1 not in [1,2]`"
      ]
    },
    {
      "cell_type": "code",
      "execution_count": null,
      "metadata": {
        "id": "FhlUjrzckDDr",
        "colab": {
          "base_uri": "https://localhost:8080/"
        },
        "outputId": "d6ffdd43-c99e-47ac-f4dc-131d447f2baa"
      },
      "outputs": [
        {
          "output_type": "stream",
          "name": "stdout",
          "text": [
            "[1, 3]\n"
          ]
        }
      ],
      "source": [
        "list1 = [1,3,5,6,3]\n",
        "list2 = [1,2,3]\n",
        "\n",
        "def list_intersection(list1, list2):\n",
        "  intersection = []\n",
        "  ## YOUR_CODE_STARTS_HERE\n",
        "  for num in list1:\n",
        "    if num in list2 and num not in intersection:\n",
        "      intersection.append(num)\n",
        "  ## YOUR_CODE_ENDS_HERE\n",
        "  return intersection\n",
        "## RESULT_CHECKING_POINT  (result should be [1, 3])\n",
        "print(list_intersection(list1, list2))"
      ]
    },
    {
      "cell_type": "markdown",
      "source": [
        "### `list.append` and `list.extend`"
      ],
      "metadata": {
        "id": "Ifqaqsxg-m7w"
      }
    },
    {
      "cell_type": "code",
      "source": [
        "print(list2)\n",
        "list1 = [1,3,5,6,3]\n",
        "list1.append(7)\n",
        "list1.extend(list2)\n",
        "print(list1)"
      ],
      "metadata": {
        "colab": {
          "base_uri": "https://localhost:8080/"
        },
        "id": "tXof2KQz-WnQ",
        "outputId": "40098565-5235-48e6-aebc-a7a7cd68412d"
      },
      "execution_count": null,
      "outputs": [
        {
          "output_type": "stream",
          "name": "stdout",
          "text": [
            "[1, 2, 3]\n",
            "[1, 3, 5, 6, 3, 7, 1, 2, 3]\n"
          ]
        }
      ]
    },
    {
      "cell_type": "markdown",
      "source": [
        "### `list1 + list2`"
      ],
      "metadata": {
        "id": "CMBl3gIc-_-n"
      }
    },
    {
      "cell_type": "code",
      "source": [
        "list1 = [1,3,5,6,3]\n",
        "list2 = [1,2,3]\n",
        "print(list1 + list2)"
      ],
      "metadata": {
        "colab": {
          "base_uri": "https://localhost:8080/"
        },
        "id": "DmX-zYCW-51X",
        "outputId": "c071b0b0-1bd0-4960-fe22-be58e2272ae0"
      },
      "execution_count": null,
      "outputs": [
        {
          "output_type": "stream",
          "name": "stdout",
          "text": [
            "[1, 3, 5, 6, 3, 1, 2, 3]\n"
          ]
        }
      ]
    },
    {
      "cell_type": "markdown",
      "source": [
        "### `list.pop`"
      ],
      "metadata": {
        "id": "HYZy_0wk_LH4"
      }
    },
    {
      "cell_type": "code",
      "source": [
        "list1 = [1,3,5,6,3]\n",
        "print(list1.pop(4), list1)"
      ],
      "metadata": {
        "colab": {
          "base_uri": "https://localhost:8080/"
        },
        "id": "zyo4Iu4-_C4a",
        "outputId": "e6739ee1-e65e-49c8-d74a-fd0a22c48fd1"
      },
      "execution_count": null,
      "outputs": [
        {
          "output_type": "stream",
          "name": "stdout",
          "text": [
            "3 [1, 3, 5, 6]\n"
          ]
        }
      ]
    },
    {
      "cell_type": "markdown",
      "source": [
        "## `dict`"
      ],
      "metadata": {
        "id": "ako1xMQE_bfV"
      }
    },
    {
      "cell_type": "markdown",
      "metadata": {
        "id": "3NuQgrnHkDDr"
      },
      "source": [
        "You can also create dictionaries (Map/HashMap in Java).\n",
        "Using this structure you can link elements. We call them keys and values.\n",
        "\n"
      ]
    },
    {
      "cell_type": "markdown",
      "source": [
        "### Keys must be unique\n",
        "\n",
        "Otherwise you will overwrite the value of that key"
      ],
      "metadata": {
        "id": "Qs6tBbzP_lxA"
      }
    },
    {
      "cell_type": "code",
      "execution_count": null,
      "metadata": {
        "id": "ZX2Ashk-kDDr",
        "colab": {
          "base_uri": "https://localhost:8080/"
        },
        "outputId": "22db36f6-24d9-4583-b67b-9f73bb94c024"
      },
      "outputs": [
        {
          "output_type": "stream",
          "name": "stdout",
          "text": [
            "{'a': 1, 'b': 2, 'c': 3}\n",
            "{'a': 1, 'b': 2, 'c': 3, 'd': [1, 2, 3, 5]}\n"
          ]
        }
      ],
      "source": [
        "dictionary = {}\n",
        "dictionary[\"a\"] = 1\n",
        "dictionary[\"b\"] = 2\n",
        "dictionary[\"c\"] = 3\n",
        "print(dictionary)\n",
        "\n",
        "dictionary[\"d\"] = [1, 2, 3, 5]\n",
        "print(dictionary)"
      ]
    },
    {
      "cell_type": "markdown",
      "source": [
        "### `dict.setdefault`"
      ],
      "metadata": {
        "id": "WqeXEgGwACG5"
      }
    },
    {
      "cell_type": "code",
      "source": [
        "id2str = {}\n",
        "print(id2str.setdefault(1, \"one\"))\n",
        "print(id2str[1])"
      ],
      "metadata": {
        "colab": {
          "base_uri": "https://localhost:8080/"
        },
        "id": "fsqyPyxJAEIF",
        "outputId": "eaa1fcf4-1d82-40af-e5b3-2c49b8867140"
      },
      "execution_count": null,
      "outputs": [
        {
          "output_type": "stream",
          "name": "stdout",
          "text": [
            "one\n",
            "one\n"
          ]
        }
      ]
    },
    {
      "cell_type": "markdown",
      "source": [
        "### `dict.get`"
      ],
      "metadata": {
        "id": "urOwVq3GAd75"
      }
    },
    {
      "cell_type": "code",
      "source": [
        "id2str.get(1)"
      ],
      "metadata": {
        "colab": {
          "base_uri": "https://localhost:8080/",
          "height": 36
        },
        "id": "9pDB4BsAM5MN",
        "outputId": "222da2a6-fa37-4155-d823-88e193890905"
      },
      "execution_count": null,
      "outputs": [
        {
          "output_type": "execute_result",
          "data": {
            "text/plain": [
              "'one'"
            ],
            "application/vnd.google.colaboratory.intrinsic+json": {
              "type": "string"
            }
          },
          "metadata": {},
          "execution_count": 71
        }
      ]
    },
    {
      "cell_type": "code",
      "source": [
        "id2str = {}\n",
        "print(id2str.get(1, None))\n",
        "print(id2str)"
      ],
      "metadata": {
        "colab": {
          "base_uri": "https://localhost:8080/"
        },
        "id": "h7CEjzejAYvM",
        "outputId": "6ef992e2-3f00-45ed-8979-e7adfd57f54c"
      },
      "execution_count": null,
      "outputs": [
        {
          "output_type": "stream",
          "name": "stdout",
          "text": [
            "None\n",
            "{}\n"
          ]
        }
      ]
    },
    {
      "cell_type": "markdown",
      "metadata": {
        "id": "xO0MhRZykDDr"
      },
      "source": [
        "### TASK 9: vocab construction. Important!!!"
      ]
    },
    {
      "cell_type": "markdown",
      "source": [
        "You are required to implement a `build_vocab` function that takes in a list of documents (strings) and outputs a vocabulary dictionary. This dictionary should map each unique word to a corresponding unique ID (integer). The IDs should start from 0 and increment sequentially in the order that words first appear across the documents. All the words should be converted to their lowercase first."
      ],
      "metadata": {
        "id": "3dqh4ha7CXTq"
      }
    },
    {
      "cell_type": "code",
      "execution_count": null,
      "metadata": {
        "id": "uJPo44-1kDDr",
        "colab": {
          "base_uri": "https://localhost:8080/"
        },
        "outputId": "fa9b300c-97bf-4d56-9b59-caaaab8e5a94"
      },
      "outputs": [
        {
          "output_type": "execute_result",
          "data": {
            "text/plain": [
              "{'the': 0,\n",
              " 'first': 1,\n",
              " 'document.': 2,\n",
              " 'and': 3,\n",
              " 'this': 4,\n",
              " 'is': 5,\n",
              " 'second': 6}"
            ]
          },
          "metadata": {},
          "execution_count": 73
        }
      ],
      "source": [
        "doc1 = \"The first document.\"\n",
        "doc2 = \"And this is the second document.\"\n",
        "\n",
        "def build_vocab(docs):\n",
        "  vocab = {}  # a mapping from words to the corresponding IDs (integers)\n",
        "  ## YOUR_CODE_STARTS_HERE\n",
        "  id = 0\n",
        "  for doc in docs:\n",
        "    for word in doc.lower().split():\n",
        "      if word not in vocab:\n",
        "        vocab[word] = id\n",
        "        id += 1\n",
        "  ## YOUR_CODE_ENDS_HERE\n",
        "  return vocab\n",
        "\n",
        "## RESULT_CHECKING_POINT (result should be {'the': 0, 'first': 1, 'document.': 2, 'and': 3, 'this': 4, 'is': 5, 'second': 6})\n",
        "build_vocab([doc1, doc2])"
      ]
    },
    {
      "cell_type": "markdown",
      "source": [
        "# Read from/Write to Disk"
      ],
      "metadata": {
        "id": "AhSjaIk8_TvB"
      }
    },
    {
      "cell_type": "markdown",
      "source": [
        "## Text files"
      ],
      "metadata": {
        "id": "k-Nl8PDJ_jl3"
      }
    },
    {
      "cell_type": "code",
      "source": [
        "# Open the file in write mode ('w'), which overwrites the file if it already exists\n",
        "with open('example.txt', 'w') as file:\n",
        "    file.write(\"Hello, World!\\nThis is a new line of text.\")\n",
        "\n",
        "# Open the file in read mode ('r')\n",
        "with open('example.txt', 'r') as file:\n",
        "    content = file.read()  # Read the entire content of the file\n",
        "    print(content)"
      ],
      "metadata": {
        "colab": {
          "base_uri": "https://localhost:8080/"
        },
        "id": "w7Immxyf_q4p",
        "outputId": "0e1582fa-011d-4990-f1a0-4340ca039fe0"
      },
      "execution_count": null,
      "outputs": [
        {
          "output_type": "stream",
          "name": "stdout",
          "text": [
            "Hello, World!\n",
            "This is a new line of text.\n"
          ]
        }
      ]
    },
    {
      "cell_type": "markdown",
      "source": [
        "## Pickle for Serializing/Deserializing Python Objects"
      ],
      "metadata": {
        "id": "9w2jOI8d_7g-"
      }
    },
    {
      "cell_type": "code",
      "source": [
        "import pickle\n",
        "\n",
        "# Define a sample Python object (like a dictionary)\n",
        "data = {\"name\": \"Alice\", \"age\": 30, \"job\": \"Scientist\"}\n",
        "\n",
        "# Open the file in write-binary mode ('wb')\n",
        "with open('data.pkl', 'wb') as file:\n",
        "    pickle.dump(data, file)  # Dump the Python object into the file"
      ],
      "metadata": {
        "id": "jTj0zsabBPgg"
      },
      "execution_count": null,
      "outputs": []
    },
    {
      "cell_type": "code",
      "source": [
        "# Open the file in read-binary mode ('rb')\n",
        "with open('data.pkl', 'rb') as file:\n",
        "    loaded_data = pickle.load(file)  # Load the object from the file\n",
        "    print(loaded_data)"
      ],
      "metadata": {
        "colab": {
          "base_uri": "https://localhost:8080/"
        },
        "id": "eYz2y1Q5BQKy",
        "outputId": "cbc4f8d1-a527-4c2c-df77-dc33421d4827"
      },
      "execution_count": null,
      "outputs": [
        {
          "output_type": "stream",
          "name": "stdout",
          "text": [
            "{'name': 'Alice', 'age': 30, 'job': 'Scientist'}\n"
          ]
        }
      ]
    },
    {
      "cell_type": "markdown",
      "source": [
        "## JSON"
      ],
      "metadata": {
        "id": "VLLirDnoCBlk"
      }
    },
    {
      "cell_type": "code",
      "source": [
        "import json\n",
        "\n",
        "# Define a Python object (e.g., dictionary)\n",
        "data = {\"name\": \"Alice\", \"age\": 30, \"job\": \"Scientist\"}\n",
        "\n",
        "# Open the file in write mode ('w')\n",
        "with open('data.json', 'w') as file:\n",
        "    json.dump(data, file, indent=4)  # Use indent=4 for pretty-printing"
      ],
      "metadata": {
        "id": "ZMmMjYf8CIcr"
      },
      "execution_count": null,
      "outputs": []
    },
    {
      "cell_type": "code",
      "source": [
        "# Open the file in read mode ('r')\n",
        "with open('data.json', 'r') as file:\n",
        "    loaded_data = json.load(file)  # Load the JSON data as a Python object\n",
        "    print(loaded_data)"
      ],
      "metadata": {
        "colab": {
          "base_uri": "https://localhost:8080/"
        },
        "id": "FDHnghW1CLtb",
        "outputId": "cce2abff-6908-4d12-8cd0-949bcebeabf0"
      },
      "execution_count": null,
      "outputs": [
        {
          "output_type": "stream",
          "name": "stdout",
          "text": [
            "{'name': 'Alice', 'age': 30, 'job': 'Scientist'}\n"
          ]
        }
      ]
    },
    {
      "cell_type": "markdown",
      "source": [
        "##  Pandas (for CSV Files)"
      ],
      "metadata": {
        "id": "PjlOBVuBCUsp"
      }
    },
    {
      "cell_type": "markdown",
      "source": [
        "Pandas is a software library written for the Python programming language for data manipulation and analysis. It supports reading/writing operations for files of many different formats, e.g. .csv/.tsv, .xlsx, .jsonl (json lines), etc."
      ],
      "metadata": {
        "id": "wbupIQUgfRZX"
      }
    },
    {
      "cell_type": "code",
      "source": [
        "import pandas as pd\n",
        "\n",
        "# Create a sample DataFrame\n",
        "data = {'Name': ['Alice', 'Bob', 'Charlie'],\n",
        "        'Age': [25, 30, 35],\n",
        "        'Job': ['Engineer', 'Doctor', 'Teacher']}\n",
        "df = pd.DataFrame(data)\n",
        "\n",
        "# Write the DataFrame to a CSV file\n",
        "df.to_csv('output.csv', index=False)  # index=False prevents adding an extra index column"
      ],
      "metadata": {
        "id": "25f7iOcKebkq"
      },
      "execution_count": null,
      "outputs": []
    },
    {
      "cell_type": "code",
      "source": [
        "# Read the CSV file into a DataFrame\n",
        "df = pd.read_csv('output.csv')\n",
        "\n",
        "# Display the first few rows of the DataFrame\n",
        "print(df.head())"
      ],
      "metadata": {
        "colab": {
          "base_uri": "https://localhost:8080/"
        },
        "id": "8xvU4aVIChQ8",
        "outputId": "e4e84d1a-d69a-46b8-b39b-f2ce71d76c60"
      },
      "execution_count": null,
      "outputs": [
        {
          "output_type": "stream",
          "name": "stdout",
          "text": [
            "      Name  Age       Job\n",
            "0    Alice   25  Engineer\n",
            "1      Bob   30    Doctor\n",
            "2  Charlie   35   Teacher\n"
          ]
        }
      ]
    },
    {
      "cell_type": "markdown",
      "source": [
        "It also supports a lot of convenient operations for data preprocessing and analysis. For example: (learn more [here](https://pandas.pydata.org/docs/user_guide/10min.html))"
      ],
      "metadata": {
        "id": "M8OptqJffu1Y"
      }
    },
    {
      "cell_type": "code",
      "source": [
        "df[df[\"Age\"] >= 20]"
      ],
      "metadata": {
        "colab": {
          "base_uri": "https://localhost:8080/",
          "height": 143
        },
        "id": "jO8DfgRTfMzD",
        "outputId": "44b2dc9b-2b7c-4911-ab0f-7f879ca50fb0"
      },
      "execution_count": null,
      "outputs": [
        {
          "output_type": "execute_result",
          "data": {
            "text/plain": [
              "      Name  Age       Job\n",
              "0    Alice   25  Engineer\n",
              "1      Bob   30    Doctor\n",
              "2  Charlie   35   Teacher"
            ],
            "text/html": [
              "\n",
              "  <div id=\"df-a3d602d1-b4ea-4394-afa9-410911673f63\" class=\"colab-df-container\">\n",
              "    <div>\n",
              "<style scoped>\n",
              "    .dataframe tbody tr th:only-of-type {\n",
              "        vertical-align: middle;\n",
              "    }\n",
              "\n",
              "    .dataframe tbody tr th {\n",
              "        vertical-align: top;\n",
              "    }\n",
              "\n",
              "    .dataframe thead th {\n",
              "        text-align: right;\n",
              "    }\n",
              "</style>\n",
              "<table border=\"1\" class=\"dataframe\">\n",
              "  <thead>\n",
              "    <tr style=\"text-align: right;\">\n",
              "      <th></th>\n",
              "      <th>Name</th>\n",
              "      <th>Age</th>\n",
              "      <th>Job</th>\n",
              "    </tr>\n",
              "  </thead>\n",
              "  <tbody>\n",
              "    <tr>\n",
              "      <th>0</th>\n",
              "      <td>Alice</td>\n",
              "      <td>25</td>\n",
              "      <td>Engineer</td>\n",
              "    </tr>\n",
              "    <tr>\n",
              "      <th>1</th>\n",
              "      <td>Bob</td>\n",
              "      <td>30</td>\n",
              "      <td>Doctor</td>\n",
              "    </tr>\n",
              "    <tr>\n",
              "      <th>2</th>\n",
              "      <td>Charlie</td>\n",
              "      <td>35</td>\n",
              "      <td>Teacher</td>\n",
              "    </tr>\n",
              "  </tbody>\n",
              "</table>\n",
              "</div>\n",
              "    <div class=\"colab-df-buttons\">\n",
              "\n",
              "  <div class=\"colab-df-container\">\n",
              "    <button class=\"colab-df-convert\" onclick=\"convertToInteractive('df-a3d602d1-b4ea-4394-afa9-410911673f63')\"\n",
              "            title=\"Convert this dataframe to an interactive table.\"\n",
              "            style=\"display:none;\">\n",
              "\n",
              "  <svg xmlns=\"http://www.w3.org/2000/svg\" height=\"24px\" viewBox=\"0 -960 960 960\">\n",
              "    <path d=\"M120-120v-720h720v720H120Zm60-500h600v-160H180v160Zm220 220h160v-160H400v160Zm0 220h160v-160H400v160ZM180-400h160v-160H180v160Zm440 0h160v-160H620v160ZM180-180h160v-160H180v160Zm440 0h160v-160H620v160Z\"/>\n",
              "  </svg>\n",
              "    </button>\n",
              "\n",
              "  <style>\n",
              "    .colab-df-container {\n",
              "      display:flex;\n",
              "      gap: 12px;\n",
              "    }\n",
              "\n",
              "    .colab-df-convert {\n",
              "      background-color: #E8F0FE;\n",
              "      border: none;\n",
              "      border-radius: 50%;\n",
              "      cursor: pointer;\n",
              "      display: none;\n",
              "      fill: #1967D2;\n",
              "      height: 32px;\n",
              "      padding: 0 0 0 0;\n",
              "      width: 32px;\n",
              "    }\n",
              "\n",
              "    .colab-df-convert:hover {\n",
              "      background-color: #E2EBFA;\n",
              "      box-shadow: 0px 1px 2px rgba(60, 64, 67, 0.3), 0px 1px 3px 1px rgba(60, 64, 67, 0.15);\n",
              "      fill: #174EA6;\n",
              "    }\n",
              "\n",
              "    .colab-df-buttons div {\n",
              "      margin-bottom: 4px;\n",
              "    }\n",
              "\n",
              "    [theme=dark] .colab-df-convert {\n",
              "      background-color: #3B4455;\n",
              "      fill: #D2E3FC;\n",
              "    }\n",
              "\n",
              "    [theme=dark] .colab-df-convert:hover {\n",
              "      background-color: #434B5C;\n",
              "      box-shadow: 0px 1px 3px 1px rgba(0, 0, 0, 0.15);\n",
              "      filter: drop-shadow(0px 1px 2px rgba(0, 0, 0, 0.3));\n",
              "      fill: #FFFFFF;\n",
              "    }\n",
              "  </style>\n",
              "\n",
              "    <script>\n",
              "      const buttonEl =\n",
              "        document.querySelector('#df-a3d602d1-b4ea-4394-afa9-410911673f63 button.colab-df-convert');\n",
              "      buttonEl.style.display =\n",
              "        google.colab.kernel.accessAllowed ? 'block' : 'none';\n",
              "\n",
              "      async function convertToInteractive(key) {\n",
              "        const element = document.querySelector('#df-a3d602d1-b4ea-4394-afa9-410911673f63');\n",
              "        const dataTable =\n",
              "          await google.colab.kernel.invokeFunction('convertToInteractive',\n",
              "                                                    [key], {});\n",
              "        if (!dataTable) return;\n",
              "\n",
              "        const docLinkHtml = 'Like what you see? Visit the ' +\n",
              "          '<a target=\"_blank\" href=https://colab.research.google.com/notebooks/data_table.ipynb>data table notebook</a>'\n",
              "          + ' to learn more about interactive tables.';\n",
              "        element.innerHTML = '';\n",
              "        dataTable['output_type'] = 'display_data';\n",
              "        await google.colab.output.renderOutput(dataTable, element);\n",
              "        const docLink = document.createElement('div');\n",
              "        docLink.innerHTML = docLinkHtml;\n",
              "        element.appendChild(docLink);\n",
              "      }\n",
              "    </script>\n",
              "  </div>\n",
              "\n",
              "\n",
              "<div id=\"df-c04609e4-20ee-4595-8aba-ac705da134d7\">\n",
              "  <button class=\"colab-df-quickchart\" onclick=\"quickchart('df-c04609e4-20ee-4595-8aba-ac705da134d7')\"\n",
              "            title=\"Suggest charts\"\n",
              "            style=\"display:none;\">\n",
              "\n",
              "<svg xmlns=\"http://www.w3.org/2000/svg\" height=\"24px\"viewBox=\"0 0 24 24\"\n",
              "     width=\"24px\">\n",
              "    <g>\n",
              "        <path d=\"M19 3H5c-1.1 0-2 .9-2 2v14c0 1.1.9 2 2 2h14c1.1 0 2-.9 2-2V5c0-1.1-.9-2-2-2zM9 17H7v-7h2v7zm4 0h-2V7h2v10zm4 0h-2v-4h2v4z\"/>\n",
              "    </g>\n",
              "</svg>\n",
              "  </button>\n",
              "\n",
              "<style>\n",
              "  .colab-df-quickchart {\n",
              "      --bg-color: #E8F0FE;\n",
              "      --fill-color: #1967D2;\n",
              "      --hover-bg-color: #E2EBFA;\n",
              "      --hover-fill-color: #174EA6;\n",
              "      --disabled-fill-color: #AAA;\n",
              "      --disabled-bg-color: #DDD;\n",
              "  }\n",
              "\n",
              "  [theme=dark] .colab-df-quickchart {\n",
              "      --bg-color: #3B4455;\n",
              "      --fill-color: #D2E3FC;\n",
              "      --hover-bg-color: #434B5C;\n",
              "      --hover-fill-color: #FFFFFF;\n",
              "      --disabled-bg-color: #3B4455;\n",
              "      --disabled-fill-color: #666;\n",
              "  }\n",
              "\n",
              "  .colab-df-quickchart {\n",
              "    background-color: var(--bg-color);\n",
              "    border: none;\n",
              "    border-radius: 50%;\n",
              "    cursor: pointer;\n",
              "    display: none;\n",
              "    fill: var(--fill-color);\n",
              "    height: 32px;\n",
              "    padding: 0;\n",
              "    width: 32px;\n",
              "  }\n",
              "\n",
              "  .colab-df-quickchart:hover {\n",
              "    background-color: var(--hover-bg-color);\n",
              "    box-shadow: 0 1px 2px rgba(60, 64, 67, 0.3), 0 1px 3px 1px rgba(60, 64, 67, 0.15);\n",
              "    fill: var(--button-hover-fill-color);\n",
              "  }\n",
              "\n",
              "  .colab-df-quickchart-complete:disabled,\n",
              "  .colab-df-quickchart-complete:disabled:hover {\n",
              "    background-color: var(--disabled-bg-color);\n",
              "    fill: var(--disabled-fill-color);\n",
              "    box-shadow: none;\n",
              "  }\n",
              "\n",
              "  .colab-df-spinner {\n",
              "    border: 2px solid var(--fill-color);\n",
              "    border-color: transparent;\n",
              "    border-bottom-color: var(--fill-color);\n",
              "    animation:\n",
              "      spin 1s steps(1) infinite;\n",
              "  }\n",
              "\n",
              "  @keyframes spin {\n",
              "    0% {\n",
              "      border-color: transparent;\n",
              "      border-bottom-color: var(--fill-color);\n",
              "      border-left-color: var(--fill-color);\n",
              "    }\n",
              "    20% {\n",
              "      border-color: transparent;\n",
              "      border-left-color: var(--fill-color);\n",
              "      border-top-color: var(--fill-color);\n",
              "    }\n",
              "    30% {\n",
              "      border-color: transparent;\n",
              "      border-left-color: var(--fill-color);\n",
              "      border-top-color: var(--fill-color);\n",
              "      border-right-color: var(--fill-color);\n",
              "    }\n",
              "    40% {\n",
              "      border-color: transparent;\n",
              "      border-right-color: var(--fill-color);\n",
              "      border-top-color: var(--fill-color);\n",
              "    }\n",
              "    60% {\n",
              "      border-color: transparent;\n",
              "      border-right-color: var(--fill-color);\n",
              "    }\n",
              "    80% {\n",
              "      border-color: transparent;\n",
              "      border-right-color: var(--fill-color);\n",
              "      border-bottom-color: var(--fill-color);\n",
              "    }\n",
              "    90% {\n",
              "      border-color: transparent;\n",
              "      border-bottom-color: var(--fill-color);\n",
              "    }\n",
              "  }\n",
              "</style>\n",
              "\n",
              "  <script>\n",
              "    async function quickchart(key) {\n",
              "      const quickchartButtonEl =\n",
              "        document.querySelector('#' + key + ' button');\n",
              "      quickchartButtonEl.disabled = true;  // To prevent multiple clicks.\n",
              "      quickchartButtonEl.classList.add('colab-df-spinner');\n",
              "      try {\n",
              "        const charts = await google.colab.kernel.invokeFunction(\n",
              "            'suggestCharts', [key], {});\n",
              "      } catch (error) {\n",
              "        console.error('Error during call to suggestCharts:', error);\n",
              "      }\n",
              "      quickchartButtonEl.classList.remove('colab-df-spinner');\n",
              "      quickchartButtonEl.classList.add('colab-df-quickchart-complete');\n",
              "    }\n",
              "    (() => {\n",
              "      let quickchartButtonEl =\n",
              "        document.querySelector('#df-c04609e4-20ee-4595-8aba-ac705da134d7 button');\n",
              "      quickchartButtonEl.style.display =\n",
              "        google.colab.kernel.accessAllowed ? 'block' : 'none';\n",
              "    })();\n",
              "  </script>\n",
              "</div>\n",
              "\n",
              "    </div>\n",
              "  </div>\n"
            ],
            "application/vnd.google.colaboratory.intrinsic+json": {
              "type": "dataframe",
              "summary": "{\n  \"name\": \"df[df[\\\"Age\\\"] >= 20]\",\n  \"rows\": 3,\n  \"fields\": [\n    {\n      \"column\": \"Name\",\n      \"properties\": {\n        \"dtype\": \"string\",\n        \"num_unique_values\": 3,\n        \"samples\": [\n          \"Alice\",\n          \"Bob\",\n          \"Charlie\"\n        ],\n        \"semantic_type\": \"\",\n        \"description\": \"\"\n      }\n    },\n    {\n      \"column\": \"Age\",\n      \"properties\": {\n        \"dtype\": \"number\",\n        \"std\": 5,\n        \"min\": 25,\n        \"max\": 35,\n        \"num_unique_values\": 3,\n        \"samples\": [\n          25,\n          30,\n          35\n        ],\n        \"semantic_type\": \"\",\n        \"description\": \"\"\n      }\n    },\n    {\n      \"column\": \"Job\",\n      \"properties\": {\n        \"dtype\": \"string\",\n        \"num_unique_values\": 3,\n        \"samples\": [\n          \"Engineer\",\n          \"Doctor\",\n          \"Teacher\"\n        ],\n        \"semantic_type\": \"\",\n        \"description\": \"\"\n      }\n    }\n  ]\n}"
            }
          },
          "metadata": {},
          "execution_count": 64
        }
      ]
    },
    {
      "cell_type": "markdown",
      "metadata": {
        "id": "WoLfCtwLkDDr"
      },
      "source": [
        "# Numpy library and `import`\n",
        "Numpy is a python library for mathematical purposes and with good support for vectors and matrices. A library can be loaded into your file using the *import* instruction. We can define an abbreviation for used libraries, so that we do not need to type the full name."
      ]
    },
    {
      "cell_type": "code",
      "execution_count": null,
      "metadata": {
        "id": "HfsLDVG-kDDx",
        "colab": {
          "base_uri": "https://localhost:8080/"
        },
        "outputId": "626c314c-8c74-456a-ae54-c5f563bf534c"
      },
      "outputs": [
        {
          "output_type": "stream",
          "name": "stdout",
          "text": [
            "[ 0  1  2  3  4  5  6  7  8  9 10 11 12 13 14]\n"
          ]
        }
      ],
      "source": [
        "import numpy as np\n",
        "\n",
        "a = np.arange(15)\n",
        "print(a)"
      ]
    },
    {
      "cell_type": "code",
      "execution_count": null,
      "metadata": {
        "id": "1d42olq0kDDx",
        "colab": {
          "base_uri": "https://localhost:8080/"
        },
        "outputId": "0a342aaf-7090-4cf2-c2b6-295a5f5b72f2"
      },
      "outputs": [
        {
          "output_type": "stream",
          "name": "stdout",
          "text": [
            "[[ 0  1  2]\n",
            " [ 3  4  5]\n",
            " [ 6  7  8]\n",
            " [ 9 10 11]\n",
            " [12 13 14]]\n"
          ]
        }
      ],
      "source": [
        "a = a.reshape(5,3)\n",
        "print(a)"
      ]
    },
    {
      "cell_type": "markdown",
      "metadata": {
        "id": "uviXPtxVkDDx"
      },
      "source": [
        "#### TASK10: defining numpy array\n",
        "\n",
        "Define the numpy arrays (using `np.array`) which contains 10 Zeros, 10 Ones and 10 Fives. (Note: There are more than one solutions)"
      ]
    },
    {
      "cell_type": "code",
      "execution_count": null,
      "metadata": {
        "id": "l224f0zwkDDx"
      },
      "outputs": [],
      "source": [
        "np_array = None\n",
        "\n",
        "## YOUR_CODE_STARTS_HERE\n",
        "## YOUR_CODE_ENDS_HERE\n",
        "## RESULT_CHECKING_POINT  (result should be [1 1 1 1 1 1 1 1 1 1 2 2 2 2 2 2 2 2 2 2 6 6 6 6 6])\n",
        "print(np_array + 1)  # benefit: such matrix-related operations will be extremely fast and convenient"
      ]
    },
    {
      "cell_type": "markdown",
      "metadata": {
        "id": "lp-aaZ5jkDDx"
      },
      "source": [
        "### `np.ndarray.shape`, `np.ndarray.ndim`, `np.ndarray.dtype`\n",
        "\n",
        "__Question__: What is actually the difference between them? Discuss this with your neighbor."
      ]
    },
    {
      "cell_type": "code",
      "execution_count": null,
      "metadata": {
        "id": "u4MxwXESkDDx",
        "colab": {
          "base_uri": "https://localhost:8080/"
        },
        "outputId": "52204a46-8c9e-4cb1-a82d-603f37ead613"
      },
      "outputs": [
        {
          "output_type": "stream",
          "name": "stdout",
          "text": [
            "shape of a is: (5, 3)\n",
            "dimensions in a: 2\n",
            "type of a is: int64\n"
          ]
        }
      ],
      "source": [
        "print(\"shape of a is:\", a.shape)\n",
        "print(\"dimensions in a:\", a.ndim)\n",
        "print(\"type of a is:\", a.dtype)"
      ]
    },
    {
      "cell_type": "markdown",
      "source": [
        "### Numpy math operations"
      ],
      "metadata": {
        "id": "L6u6tdRIZ_4h"
      }
    },
    {
      "cell_type": "markdown",
      "metadata": {
        "id": "eBwud5H3kDDx"
      },
      "source": [
        "We can also use the ordinary mathematical operations on vectors, i.e. Numpy-arrays."
      ]
    },
    {
      "cell_type": "code",
      "execution_count": null,
      "metadata": {
        "id": "4MnVAj6XkDDx",
        "colab": {
          "base_uri": "https://localhost:8080/"
        },
        "outputId": "ede65369-f9f9-4775-8d92-28e7c7c00ae5"
      },
      "outputs": [
        {
          "output_type": "stream",
          "name": "stdout",
          "text": [
            "shapes: (4,) (4,)\n",
            "[10 20 30 40]\n",
            "[0 1 2 3]\n",
            "[10 21 32 43]\n",
            "[10 19 28 37]\n",
            "100\n",
            "[ 100  400  900 1600]\n",
            "[ True  True  True  True]\n",
            "[11 20 30 41]\n"
          ]
        }
      ],
      "source": [
        "a = np.array([10, 20, 30, 40])\n",
        "b = np.arange(4)\n",
        "print(\"shapes:\", a.shape, b.shape)\n",
        "print(a)\n",
        "print(b)\n",
        "print(a + b)\n",
        "print(a - b)\n",
        "print(a.sum())\n",
        "print(a ** 2)\n",
        "print(a > b * 10)\n",
        "a[[0, 3]] += 1\n",
        "print(a)"
      ]
    },
    {
      "cell_type": "markdown",
      "metadata": {
        "id": "1EYaHBCxkDDy"
      },
      "source": [
        "__Question__: What is the difference between the following instructions? Discuss this with your neighbor."
      ]
    },
    {
      "cell_type": "code",
      "execution_count": null,
      "metadata": {
        "id": "QJusheszkDDy",
        "colab": {
          "base_uri": "https://localhost:8080/"
        },
        "outputId": "12bf0ed9-1561-4148-e503-5232d22ddce7"
      },
      "outputs": [
        {
          "output_type": "stream",
          "name": "stdout",
          "text": [
            "[22 40 60 82]\n",
            "[  0  20  60 123]\n",
            "203\n"
          ]
        }
      ],
      "source": [
        "print(a * 2)\n",
        "print(a * b)\n",
        "print(a.dot(b))"
      ]
    },
    {
      "cell_type": "markdown",
      "source": [
        "### More ways to create `np.ndarray`"
      ],
      "metadata": {
        "id": "JwdbFWm0bTHx"
      }
    },
    {
      "cell_type": "code",
      "execution_count": null,
      "metadata": {
        "id": "ZbauxHDRkDDy",
        "colab": {
          "base_uri": "https://localhost:8080/"
        },
        "outputId": "1be337da-e28b-4adb-a514-ba075e5ad19b"
      },
      "outputs": [
        {
          "output_type": "execute_result",
          "data": {
            "text/plain": [
              "(array([0., 0., 0., 0.]),\n",
              " array([1., 1., 1., 1.]),\n",
              " array([[2, 2, 2, 2],\n",
              "        [2, 2, 2, 2],\n",
              "        [2, 2, 2, 2]]))"
            ]
          },
          "metadata": {},
          "execution_count": 71
        }
      ],
      "source": [
        "np.zeros(4), np.ones(4), np.full((3, 4), 2)"
      ]
    },
    {
      "cell_type": "markdown",
      "source": [
        "### TASK 11: `Wx + b`"
      ],
      "metadata": {
        "id": "7aCMNBekdNuT"
      }
    },
    {
      "cell_type": "markdown",
      "source": [
        "Given the matrix/vector W, x and b, compute `Wx+b`.\n",
        "> Hint: `np.matmul`"
      ],
      "metadata": {
        "id": "Ars8iY4LdT4e"
      }
    },
    {
      "cell_type": "code",
      "execution_count": null,
      "metadata": {
        "id": "KjAGPaQUkDDy"
      },
      "outputs": [],
      "source": [
        "W = np.array([[1,2,3], [4,5,6], [7,8,9]])\n",
        "x = np.ones(3)\n",
        "b = np.ones(3)\n",
        "new_x = None\n",
        "\n",
        "## YOUR_CODE_STARTS_HERE\n",
        "## YOUR_CODE_ENDS_HERE\n",
        "## RESULT_CHECKING_POINT  (result should be [ 7. 16. 25.])\n",
        "print(new_x)"
      ]
    },
    {
      "cell_type": "markdown",
      "source": [
        "### Broadcasting"
      ],
      "metadata": {
        "id": "ZsiYOk8PgYIj"
      }
    },
    {
      "cell_type": "code",
      "source": [
        "A = np.array([[1,2,3], [4,5,6], [7,8,9]])\n",
        "B = np.ones((1, 3))\n",
        "print(A * B)"
      ],
      "metadata": {
        "colab": {
          "base_uri": "https://localhost:8080/"
        },
        "id": "t_X0BaY0e6ZB",
        "outputId": "d5705104-aa72-4ae7-d305-73a77d66419b"
      },
      "execution_count": null,
      "outputs": [
        {
          "output_type": "stream",
          "name": "stdout",
          "text": [
            "[[1. 2. 3.]\n",
            " [4. 5. 6.]\n",
            " [7. 8. 9.]]\n"
          ]
        }
      ]
    },
    {
      "cell_type": "markdown",
      "source": [
        "# Objective-Oriented Programming\n"
      ],
      "metadata": {
        "id": "bQVZMM0J0xop"
      }
    },
    {
      "cell_type": "markdown",
      "source": [
        "## Defining a class"
      ],
      "metadata": {
        "id": "VqhBaBSZ00Zl"
      }
    },
    {
      "cell_type": "code",
      "source": [
        "class BankAccount:\n",
        "    def __init__(self, account_holder, balance=0.0):\n",
        "        # Initialize the account with the account holder's name and balance\n",
        "        self.account_holder = account_holder\n",
        "        self.balance = balance\n",
        "\n",
        "    def deposit(self, amount):\n",
        "        # Method to deposit money\n",
        "        if amount > 0:\n",
        "            self.balance += amount\n",
        "            print(f\"Deposited {amount} to {self.account_holder}'s account.\")\n",
        "        else:\n",
        "            print(\"Deposit amount must be positive.\")\n",
        "\n",
        "    def withdraw(self, amount):\n",
        "        raise NotImplementedError(\"Withdraw method not implemented.\")\n",
        "\n",
        "    def get_balance(self):\n",
        "        # Return the current balance\n",
        "        return self.balance\n",
        "\n",
        "# Example usage\n",
        "account = BankAccount(\"Alice\")\n",
        "account.deposit(100)\n",
        "print(f\"Balance: {account.get_balance()}\")"
      ],
      "metadata": {
        "colab": {
          "base_uri": "https://localhost:8080/"
        },
        "id": "ZIsmYERW0ynA",
        "outputId": "ed14ddbe-4c91-42cf-803d-c34e9800fd87"
      },
      "execution_count": null,
      "outputs": [
        {
          "output_type": "stream",
          "name": "stdout",
          "text": [
            "Deposited 100 to Alice's account.\n",
            "Balance: 100.0\n"
          ]
        }
      ]
    },
    {
      "cell_type": "markdown",
      "source": [
        "## TASK12: implemet `BankAccount.withdraw`"
      ],
      "metadata": {
        "id": "cK3pcPw32PcA"
      }
    },
    {
      "cell_type": "code",
      "source": [
        "def withdraw(self, amount):\n",
        "    # Method to withdraw money\n",
        "    ## YOUR_CODE_STARTS_HERE\n",
        "    ## YOUR_CODE_ENDS_HERE\n",
        "\n",
        "## RESULT_CHECKING_POINT\n",
        "BankAccount.withdraw = withdraw\n",
        "account.withdraw(30)\n",
        "print(f\"Balance: {account.get_balance()}\")"
      ],
      "metadata": {
        "id": "c4nyBoMe1wTG"
      },
      "execution_count": null,
      "outputs": []
    },
    {
      "cell_type": "markdown",
      "source": [
        "## Static Method, Class Method, and Property"
      ],
      "metadata": {
        "id": "Mb_eR8IF03vR"
      }
    },
    {
      "cell_type": "code",
      "source": [
        "class BankAccount:\n",
        "    interest_rate = 0.02  # Class-level attribute (shared across instances)\n",
        "\n",
        "    def __init__(self, account_holder, balance=0.0):\n",
        "        self.account_holder = account_holder\n",
        "        self._balance = balance\n",
        "\n",
        "    def deposit(self, amount):\n",
        "        if amount > 0:\n",
        "            self._balance += amount\n",
        "        else:\n",
        "            print(\"Deposit amount must be positive.\")\n",
        "\n",
        "    def withdraw(self, amount):\n",
        "        if amount > 0 and self._balance >= amount:\n",
        "            self._balance -= amount\n",
        "        else:\n",
        "            print(\"Insufficient balance or invalid amount.\")\n",
        "\n",
        "    @staticmethod\n",
        "    def bank_policy():\n",
        "        # Static method to display the bank's general policy (no instance or class data needed)\n",
        "        return \"Bank follows standard regulations.\"\n",
        "\n",
        "    @classmethod\n",
        "    def from_string(cls, account_info_str):\n",
        "        # Class method to create an account from a string representation\n",
        "        raise NotImplementedError(\"from_string method not implemented.\")\n",
        "\n",
        "    @property\n",
        "    def balance(self):\n",
        "        # Property to get the balance (read-only)\n",
        "        return self._balance\n",
        "\n",
        "# Example usage\n",
        "account = BankAccount(\"Bob\", 200)\n",
        "print(f\"Initial balance: {account.balance}\")\n",
        "account.deposit(50)\n",
        "print(f\"Balance after deposit: {account.balance}\")\n",
        "\n",
        "# Access static method\n",
        "print(BankAccount.bank_policy())\n",
        "\n",
        "# Change interest rate using class method\n",
        "print(f\"New interest rate: {BankAccount.interest_rate}\")"
      ],
      "metadata": {
        "colab": {
          "base_uri": "https://localhost:8080/"
        },
        "id": "sdcE2tZl06g9",
        "outputId": "de3b9b25-635b-4424-d0b3-5f2087ea3941"
      },
      "execution_count": null,
      "outputs": [
        {
          "output_type": "stream",
          "name": "stdout",
          "text": [
            "Initial balance: 200\n",
            "Balance after deposit: 250\n",
            "Bank follows standard regulations.\n",
            "New interest rate: 0.02\n"
          ]
        }
      ]
    },
    {
      "cell_type": "markdown",
      "source": [
        "## TASK13: `from_string`"
      ],
      "metadata": {
        "id": "YHlSZ13txkye"
      }
    },
    {
      "cell_type": "code",
      "source": [
        "@classmethod\n",
        "def from_string(cls, account_info_str):\n",
        "    # Class method to create an account from a string representation\n",
        "    ## YOUR_CODE_STARTS_HERE\n",
        "    ## YOUR_CODE_ENDS_HERE\n",
        "\n",
        "# RESULT_CHECKING_POINT  (result should be \"Holder: Charlie, balance: 350\")\n",
        "BankAccount.from_string = from_string\n",
        "bank_account = BankAccount.from_string(\"Charlie,350\")\n",
        "print(f\"Holder: {bank_account.account_holder}, balance: {bank_account.balance}\")"
      ],
      "metadata": {
        "id": "8n28uj_Q3lir"
      },
      "execution_count": null,
      "outputs": []
    },
    {
      "cell_type": "markdown",
      "source": [
        "## Abstract Class"
      ],
      "metadata": {
        "id": "9ti-Irm9083h"
      }
    },
    {
      "cell_type": "markdown",
      "source": [
        "One can inherit a class directly: `class Parent: ...` -> `class Child(Parent)` in Python. But it provides a more explicit way to do this: via Abstract Base Class (`abc.ABC`)."
      ],
      "metadata": {
        "id": "0E2FD4PdzWrh"
      }
    },
    {
      "cell_type": "code",
      "source": [
        "from abc import ABC, abstractmethod\n",
        "\n",
        "class Account(ABC):\n",
        "    @abstractmethod\n",
        "    def deposit(self, amount):\n",
        "        pass  # Abstract method to be implemented by subclasses\n",
        "\n",
        "    @abstractmethod\n",
        "    def withdraw(self, amount):\n",
        "        pass  # Abstract method to be implemented by subclasses\n",
        "\n",
        "    @abstractmethod\n",
        "    def get_balance(self):\n",
        "        pass  # Abstract method to be implemented by subclasses\n",
        "\n",
        "class BankAccount(Account):\n",
        "    def __init__(self, account_holder, balance=0.0):\n",
        "        self.account_holder = account_holder\n",
        "        self.balance = balance\n",
        "\n",
        "    def deposit(self, amount):\n",
        "        if amount > 0:\n",
        "            self.balance += amount\n",
        "            print(f\"Deposited {amount} to {self.account_holder}'s account.\")\n",
        "        else:\n",
        "            print(\"Deposit amount must be positive.\")\n",
        "\n",
        "    def withdraw(self, amount):\n",
        "        if amount > 0 and self.balance >= amount:\n",
        "            self.balance -= amount\n",
        "            print(f\"Withdrew {amount} from {self.account_holder}'s account.\")\n",
        "        else:\n",
        "            print(\"Insufficient balance or invalid amount.\")\n",
        "\n",
        "    def get_balance(self):\n",
        "        return self.balance\n",
        "\n",
        "# Example usage\n",
        "account = BankAccount(\"Charlie\", 500)\n",
        "account.deposit(100)\n",
        "account.withdraw(200)\n",
        "print(f\"Balance: {account.get_balance()}\")"
      ],
      "metadata": {
        "colab": {
          "base_uri": "https://localhost:8080/"
        },
        "id": "RSLN5Dlq0_p8",
        "outputId": "8c282493-83d6-417d-d1f0-28fb3e8aab9a"
      },
      "execution_count": null,
      "outputs": [
        {
          "output_type": "stream",
          "name": "stdout",
          "text": [
            "Deposited 100 to Charlie's account.\n",
            "Withdrew 200 from Charlie's account.\n",
            "Balance: 400\n"
          ]
        }
      ]
    },
    {
      "cell_type": "markdown",
      "source": [
        "One direct benefit of using ABC is that it will raise an exception if one did not inherit the base class properly:"
      ],
      "metadata": {
        "id": "QTvHZuS20MzY"
      }
    },
    {
      "cell_type": "code",
      "source": [
        "class BakeryAccount(Account):\n",
        "  pass\n",
        "\n",
        "try:\n",
        "  BakeryAccount()\n",
        "except Exception as e:\n",
        "  print(type(e), e)"
      ],
      "metadata": {
        "colab": {
          "base_uri": "https://localhost:8080/"
        },
        "id": "bTaAao6ayj5g",
        "outputId": "bd26893d-1684-4f2d-ef12-5f9c54ab183b"
      },
      "execution_count": null,
      "outputs": [
        {
          "output_type": "stream",
          "name": "stdout",
          "text": [
            "<class 'TypeError'> Can't instantiate abstract class BakeryAccount with abstract methods deposit, get_balance, withdraw\n"
          ]
        }
      ]
    },
    {
      "cell_type": "markdown",
      "source": [
        "# Decorators and `dataclass`"
      ],
      "metadata": {
        "id": "K9fWf-A8hYOz"
      }
    },
    {
      "cell_type": "markdown",
      "source": [
        "A decorator is a function that takes another function or a class and extends its behavior without explicitly modifying it. This is useful when you want to add some reusable logic before or after a function’s main execution.\n"
      ],
      "metadata": {
        "id": "-AqqPA-Shdt9"
      }
    },
    {
      "cell_type": "code",
      "source": [
        "def decorator_function(original_function):\n",
        "    def wrapper_function(*args, **kwargs):\n",
        "        print(\"Before executing the function\")\n",
        "        result = original_function(*args, **kwargs)\n",
        "        print(\"After executing the function\")\n",
        "        return result\n",
        "    return wrapper_function\n",
        "\n",
        "@decorator_function\n",
        "def display_message():\n",
        "    print(\"Hello, World!\")\n",
        "\n",
        "display_message()"
      ],
      "metadata": {
        "colab": {
          "base_uri": "https://localhost:8080/"
        },
        "id": "F2t8Ny96hdY-",
        "outputId": "abf35a4b-c671-4233-8ae7-6e1bf5c19e42"
      },
      "execution_count": null,
      "outputs": [
        {
          "output_type": "stream",
          "name": "stdout",
          "text": [
            "Before executing the function\n",
            "Hello, World!\n",
            "After executing the function\n"
          ]
        }
      ]
    },
    {
      "cell_type": "markdown",
      "source": [
        "Decorator for a class:"
      ],
      "metadata": {
        "id": "t-F4jWPJiRoc"
      }
    },
    {
      "cell_type": "code",
      "source": [
        "def class_logger(cls):\n",
        "    class WrappedClass(cls):\n",
        "        def __init__(self, *args, **kwargs):\n",
        "            print(f\"Creating an instance of {cls.__name__}\")\n",
        "            super().__init__(*args, **kwargs)\n",
        "\n",
        "    return WrappedClass\n",
        "\n",
        "@class_logger\n",
        "class Person:\n",
        "    def __init__(self, name, age):\n",
        "        self.name = name\n",
        "        self.age = age\n",
        "\n",
        "    def greet(self):\n",
        "        return f\"Hello, my name is {self.name} and I am {self.age} years old.\"\n",
        "\n",
        "# Creating an instance of the class\n",
        "person = Person(\"Alice\", 30)\n",
        "print(person.greet())"
      ],
      "metadata": {
        "colab": {
          "base_uri": "https://localhost:8080/"
        },
        "id": "lC_0WetfiRI7",
        "outputId": "1101eb59-9a13-41d5-848b-8e4029fa3f98"
      },
      "execution_count": null,
      "outputs": [
        {
          "output_type": "stream",
          "name": "stdout",
          "text": [
            "Creating an instance of Person\n",
            "Hello, my name is Alice and I am 30 years old.\n"
          ]
        }
      ]
    },
    {
      "cell_type": "markdown",
      "source": [
        "Introduced in Python 3.7, the dataclass module is a decorator that automatically generates special methods for classes, such as __init__(), __repr__(), __eq__(), and more. It’s a great way to reduce boilerplate code when defining classes that mainly store data."
      ],
      "metadata": {
        "id": "CML955JXidFC"
      }
    },
    {
      "cell_type": "code",
      "source": [
        "from dataclasses import dataclass\n",
        "\n",
        "@dataclass\n",
        "class Person:\n",
        "    name: str\n",
        "    age: int\n",
        "\n",
        "Person(\"Bob\", 10)"
      ],
      "metadata": {
        "id": "8s_-7XD8ieam",
        "colab": {
          "base_uri": "https://localhost:8080/"
        },
        "outputId": "319aed75-8c33-4a1e-dd56-8a494657cc4c"
      },
      "execution_count": null,
      "outputs": [
        {
          "output_type": "execute_result",
          "data": {
            "text/plain": [
              "Person(name='Bob', age=10)"
            ]
          },
          "metadata": {},
          "execution_count": 82
        }
      ]
    },
    {
      "cell_type": "markdown",
      "metadata": {
        "id": "GeFg1eF3kDDz"
      },
      "source": [
        "# Type Hints\n",
        "As you have learned by now, the datatypes of variables in python simply depend on what you are assigning to the variable.\n",
        "However, python is still a strongly typed language and the fact that types are not explicitily denoted in the declaration may lead to confusing code. <br>\n",
        "To produce code that is more readible and easier to understand we can use __type hints__ (since Python 3.5).  <br> <br>\n",
        "Using type hints in function declarations we can document the required type of input parameters as well as the type of the function output."
      ]
    },
    {
      "cell_type": "markdown",
      "metadata": {
        "id": "-5QoTX_OkDD0"
      },
      "source": [
        "In the example below we expect two inputs of type `float` one parameter of type `bool` and we will output `str`"
      ]
    },
    {
      "cell_type": "code",
      "execution_count": null,
      "metadata": {
        "id": "fhYbYGG1kDD0"
      },
      "outputs": [],
      "source": [
        "def subtract(a: float, b: float, reverse: bool) -> str:\n",
        "    if reverse:\n",
        "        res = b - a\n",
        "    else:\n",
        "        res = a - b\n",
        "    return f'Result is: {res}'"
      ]
    },
    {
      "cell_type": "markdown",
      "metadata": {
        "id": "E9VPLWM2kDD0"
      },
      "source": [
        "Of course we can also use type hints for lists or dictionaries:"
      ]
    },
    {
      "cell_type": "code",
      "execution_count": null,
      "metadata": {
        "id": "cfWo8LY0kDD0"
      },
      "outputs": [],
      "source": [
        "from typing import List, Dict\n",
        "\n",
        "def addOrExtend(lst: list[str], items: dict[str, List[str]], key: str) -> None:\n",
        "    if key in items:\n",
        "        items[key].extend(lst)\n",
        "    else:\n",
        "        items[key] = lst"
      ]
    },
    {
      "cell_type": "markdown",
      "metadata": {
        "id": "hdIaj9Q3kDD0"
      },
      "source": [
        "And of course you can also use datatypes from additional libraries such as numpy's `array` or pandas' `DataFrame`.\n",
        "Sometimes you will also find the more generic `Mapping` or `Sequence` used as parent class of e.g. `dict` or `list`\n",
        "<br> <br>\n",
        "We encourage you to use type hints in all of the methods and functions that you are going to define in your homework submissions, as this makes it easier to understand and grade your code. All of the methods that will already be implemented or defined will also include type hints to help you with the exercise."
      ]
    },
    {
      "cell_type": "code",
      "source": [],
      "metadata": {
        "id": "RTyWbfAS8eHj"
      },
      "execution_count": null,
      "outputs": []
    }
  ],
  "metadata": {
    "kernelspec": {
      "display_name": "nlp4web",
      "language": "python",
      "name": "nlp4web"
    },
    "language_info": {
      "codemirror_mode": {
        "name": "ipython",
        "version": 3
      },
      "file_extension": ".py",
      "mimetype": "text/x-python",
      "name": "python",
      "nbconvert_exporter": "python",
      "pygments_lexer": "ipython3",
      "version": "3.9.7"
    },
    "colab": {
      "provenance": [],
      "toc_visible": true,
      "include_colab_link": true
    }
  },
  "nbformat": 4,
  "nbformat_minor": 0
}